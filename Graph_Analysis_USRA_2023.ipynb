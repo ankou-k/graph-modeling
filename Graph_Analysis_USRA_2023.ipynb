{
  "cells": [
    {
      "cell_type": "code",
      "execution_count": 127,
      "metadata": {
        "colab": {
          "base_uri": "https://localhost:8080/",
          "height": 73
        },
        "id": "Pbvv8puWyCPH",
        "outputId": "1b8a52d7-3032-4958-b04a-2d4a1a1c5893"
      },
      "outputs": [
        {
          "output_type": "display_data",
          "data": {
            "text/plain": [
              "<IPython.core.display.HTML object>"
            ],
            "text/html": [
              "\n",
              "     <input type=\"file\" id=\"files-6a4b46a5-bedc-4b94-87b4-422fea1c2933\" name=\"files[]\" multiple disabled\n",
              "        style=\"border:none\" />\n",
              "     <output id=\"result-6a4b46a5-bedc-4b94-87b4-422fea1c2933\">\n",
              "      Upload widget is only available when the cell has been executed in the\n",
              "      current browser session. Please rerun this cell to enable.\n",
              "      </output>\n",
              "      <script>// Copyright 2017 Google LLC\n",
              "//\n",
              "// Licensed under the Apache License, Version 2.0 (the \"License\");\n",
              "// you may not use this file except in compliance with the License.\n",
              "// You may obtain a copy of the License at\n",
              "//\n",
              "//      http://www.apache.org/licenses/LICENSE-2.0\n",
              "//\n",
              "// Unless required by applicable law or agreed to in writing, software\n",
              "// distributed under the License is distributed on an \"AS IS\" BASIS,\n",
              "// WITHOUT WARRANTIES OR CONDITIONS OF ANY KIND, either express or implied.\n",
              "// See the License for the specific language governing permissions and\n",
              "// limitations under the License.\n",
              "\n",
              "/**\n",
              " * @fileoverview Helpers for google.colab Python module.\n",
              " */\n",
              "(function(scope) {\n",
              "function span(text, styleAttributes = {}) {\n",
              "  const element = document.createElement('span');\n",
              "  element.textContent = text;\n",
              "  for (const key of Object.keys(styleAttributes)) {\n",
              "    element.style[key] = styleAttributes[key];\n",
              "  }\n",
              "  return element;\n",
              "}\n",
              "\n",
              "// Max number of bytes which will be uploaded at a time.\n",
              "const MAX_PAYLOAD_SIZE = 100 * 1024;\n",
              "\n",
              "function _uploadFiles(inputId, outputId) {\n",
              "  const steps = uploadFilesStep(inputId, outputId);\n",
              "  const outputElement = document.getElementById(outputId);\n",
              "  // Cache steps on the outputElement to make it available for the next call\n",
              "  // to uploadFilesContinue from Python.\n",
              "  outputElement.steps = steps;\n",
              "\n",
              "  return _uploadFilesContinue(outputId);\n",
              "}\n",
              "\n",
              "// This is roughly an async generator (not supported in the browser yet),\n",
              "// where there are multiple asynchronous steps and the Python side is going\n",
              "// to poll for completion of each step.\n",
              "// This uses a Promise to block the python side on completion of each step,\n",
              "// then passes the result of the previous step as the input to the next step.\n",
              "function _uploadFilesContinue(outputId) {\n",
              "  const outputElement = document.getElementById(outputId);\n",
              "  const steps = outputElement.steps;\n",
              "\n",
              "  const next = steps.next(outputElement.lastPromiseValue);\n",
              "  return Promise.resolve(next.value.promise).then((value) => {\n",
              "    // Cache the last promise value to make it available to the next\n",
              "    // step of the generator.\n",
              "    outputElement.lastPromiseValue = value;\n",
              "    return next.value.response;\n",
              "  });\n",
              "}\n",
              "\n",
              "/**\n",
              " * Generator function which is called between each async step of the upload\n",
              " * process.\n",
              " * @param {string} inputId Element ID of the input file picker element.\n",
              " * @param {string} outputId Element ID of the output display.\n",
              " * @return {!Iterable<!Object>} Iterable of next steps.\n",
              " */\n",
              "function* uploadFilesStep(inputId, outputId) {\n",
              "  const inputElement = document.getElementById(inputId);\n",
              "  inputElement.disabled = false;\n",
              "\n",
              "  const outputElement = document.getElementById(outputId);\n",
              "  outputElement.innerHTML = '';\n",
              "\n",
              "  const pickedPromise = new Promise((resolve) => {\n",
              "    inputElement.addEventListener('change', (e) => {\n",
              "      resolve(e.target.files);\n",
              "    });\n",
              "  });\n",
              "\n",
              "  const cancel = document.createElement('button');\n",
              "  inputElement.parentElement.appendChild(cancel);\n",
              "  cancel.textContent = 'Cancel upload';\n",
              "  const cancelPromise = new Promise((resolve) => {\n",
              "    cancel.onclick = () => {\n",
              "      resolve(null);\n",
              "    };\n",
              "  });\n",
              "\n",
              "  // Wait for the user to pick the files.\n",
              "  const files = yield {\n",
              "    promise: Promise.race([pickedPromise, cancelPromise]),\n",
              "    response: {\n",
              "      action: 'starting',\n",
              "    }\n",
              "  };\n",
              "\n",
              "  cancel.remove();\n",
              "\n",
              "  // Disable the input element since further picks are not allowed.\n",
              "  inputElement.disabled = true;\n",
              "\n",
              "  if (!files) {\n",
              "    return {\n",
              "      response: {\n",
              "        action: 'complete',\n",
              "      }\n",
              "    };\n",
              "  }\n",
              "\n",
              "  for (const file of files) {\n",
              "    const li = document.createElement('li');\n",
              "    li.append(span(file.name, {fontWeight: 'bold'}));\n",
              "    li.append(span(\n",
              "        `(${file.type || 'n/a'}) - ${file.size} bytes, ` +\n",
              "        `last modified: ${\n",
              "            file.lastModifiedDate ? file.lastModifiedDate.toLocaleDateString() :\n",
              "                                    'n/a'} - `));\n",
              "    const percent = span('0% done');\n",
              "    li.appendChild(percent);\n",
              "\n",
              "    outputElement.appendChild(li);\n",
              "\n",
              "    const fileDataPromise = new Promise((resolve) => {\n",
              "      const reader = new FileReader();\n",
              "      reader.onload = (e) => {\n",
              "        resolve(e.target.result);\n",
              "      };\n",
              "      reader.readAsArrayBuffer(file);\n",
              "    });\n",
              "    // Wait for the data to be ready.\n",
              "    let fileData = yield {\n",
              "      promise: fileDataPromise,\n",
              "      response: {\n",
              "        action: 'continue',\n",
              "      }\n",
              "    };\n",
              "\n",
              "    // Use a chunked sending to avoid message size limits. See b/62115660.\n",
              "    let position = 0;\n",
              "    do {\n",
              "      const length = Math.min(fileData.byteLength - position, MAX_PAYLOAD_SIZE);\n",
              "      const chunk = new Uint8Array(fileData, position, length);\n",
              "      position += length;\n",
              "\n",
              "      const base64 = btoa(String.fromCharCode.apply(null, chunk));\n",
              "      yield {\n",
              "        response: {\n",
              "          action: 'append',\n",
              "          file: file.name,\n",
              "          data: base64,\n",
              "        },\n",
              "      };\n",
              "\n",
              "      let percentDone = fileData.byteLength === 0 ?\n",
              "          100 :\n",
              "          Math.round((position / fileData.byteLength) * 100);\n",
              "      percent.textContent = `${percentDone}% done`;\n",
              "\n",
              "    } while (position < fileData.byteLength);\n",
              "  }\n",
              "\n",
              "  // All done.\n",
              "  yield {\n",
              "    response: {\n",
              "      action: 'complete',\n",
              "    }\n",
              "  };\n",
              "}\n",
              "\n",
              "scope.google = scope.google || {};\n",
              "scope.google.colab = scope.google.colab || {};\n",
              "scope.google.colab._files = {\n",
              "  _uploadFiles,\n",
              "  _uploadFilesContinue,\n",
              "};\n",
              "})(self);\n",
              "</script> "
            ]
          },
          "metadata": {}
        },
        {
          "output_type": "stream",
          "name": "stdout",
          "text": [
            "Saving Zero_forcing_stats_new.xlsx to Zero_forcing_stats_new.xlsx\n"
          ]
        }
      ],
      "source": [
        "#Import dataset\n",
        "from google.colab import files\n",
        "uploads = files.upload()"
      ]
    },
    {
      "cell_type": "code",
      "execution_count": 128,
      "metadata": {
        "id": "tpAr0cllR7EB"
      },
      "outputs": [],
      "source": [
        "# Import libraries\n",
        "import math\n",
        "import numpy as np\n",
        "import pandas as pd\n",
        "import matplotlib.pyplot as plt\n",
        "import random\n",
        "\n",
        "my_seed = 1234\n",
        "np.random.seed(my_seed)"
      ]
    },
    {
      "cell_type": "code",
      "execution_count": 193,
      "metadata": {
        "colab": {
          "base_uri": "https://localhost:8080/",
          "height": 363
        },
        "id": "i3wREEhPSOzW",
        "outputId": "b0cc373c-eb03-4611-c426-360e67bf9055"
      },
      "outputs": [
        {
          "output_type": "execute_result",
          "data": {
            "text/plain": [
              "  Starting Graph  Clone/Anticlone Steps  Force set size  \\\n",
              "0      ILAT_K2_3                      3               8   \n",
              "1      ILAT_K2_3                      3               8   \n",
              "2      ILAT_K2_3                      3               8   \n",
              "3      ILAT_K2_3                      3               8   \n",
              "4      ILAT_K2_3                      3               8   \n",
              "5      ILAT_K2_3                      3               8   \n",
              "6      ILAT_K2_3                      3               8   \n",
              "7      ILAT_K2_3                      3               8   \n",
              "8      ILAT_K2_3                      3               8   \n",
              "9      ILAT_K2_3                      3               8   \n",
              "\n",
              "                       Force set  Num forces               Forcees  \\\n",
              "0  1   2   3   4   9  11  12  13           8  7 8 6 14 5 16 15 10    \n",
              "1  1   2   3   4   9  11  12  14           8  7 8 5 13 6 16 15 10    \n",
              "2  1   2   3   4  10  11  12  13           8   7 8 6 14 5 16 15 9    \n",
              "3  1   2   3   4  10  11  12  14           8   7 8 5 13 6 16 15 9    \n",
              "4  1   2   3   5   9  11  12  14           8  8 7 13 4 15 16 6 10    \n",
              "5  1   2   3   5   9  11  12  15           8  8 6 10 4 7 16 14 13    \n",
              "6  1   2   3   5   9  12  13  14           8  8 7 15 6 11 10 4 16    \n",
              "7  1   2   3   5   9  12  13  15           8  8 6 14 7 11 10 4 16    \n",
              "8  1   2   3   5   9  12  14  15           8  8 7 6 13 11 10 4 16    \n",
              "9  1   2   3   5   9  12  15  16           8  8 6 10 4 7 13 11 14    \n",
              "\n",
              "                Forcers  \n",
              "0   11 12 13 1 9 7 8 6   \n",
              "1   11 12 14 1 9 7 8 5   \n",
              "2  11 12 13 1 10 7 8 6   \n",
              "3  11 12 14 1 10 7 8 5   \n",
              "4  12 14 1 11 8 7 13 4   \n",
              "5   12 15 3 9 11 4 5 8   \n",
              "6   12 14 8 15 1 3 9 7   \n",
              "7   12 15 8 14 1 3 9 6   \n",
              "8   12 14 15 8 1 3 9 7   \n",
              "9   12 15 3 9 16 6 4 7   "
            ],
            "text/html": [
              "\n",
              "  <div id=\"df-eb40de79-c6de-4743-8418-1c23139f384b\" class=\"colab-df-container\">\n",
              "    <div>\n",
              "<style scoped>\n",
              "    .dataframe tbody tr th:only-of-type {\n",
              "        vertical-align: middle;\n",
              "    }\n",
              "\n",
              "    .dataframe tbody tr th {\n",
              "        vertical-align: top;\n",
              "    }\n",
              "\n",
              "    .dataframe thead th {\n",
              "        text-align: right;\n",
              "    }\n",
              "</style>\n",
              "<table border=\"1\" class=\"dataframe\">\n",
              "  <thead>\n",
              "    <tr style=\"text-align: right;\">\n",
              "      <th></th>\n",
              "      <th>Starting Graph</th>\n",
              "      <th>Clone/Anticlone Steps</th>\n",
              "      <th>Force set size</th>\n",
              "      <th>Force set</th>\n",
              "      <th>Num forces</th>\n",
              "      <th>Forcees</th>\n",
              "      <th>Forcers</th>\n",
              "    </tr>\n",
              "  </thead>\n",
              "  <tbody>\n",
              "    <tr>\n",
              "      <th>0</th>\n",
              "      <td>ILAT_K2_3</td>\n",
              "      <td>3</td>\n",
              "      <td>8</td>\n",
              "      <td>1   2   3   4   9  11  12  13</td>\n",
              "      <td>8</td>\n",
              "      <td>7 8 6 14 5 16 15 10</td>\n",
              "      <td>11 12 13 1 9 7 8 6</td>\n",
              "    </tr>\n",
              "    <tr>\n",
              "      <th>1</th>\n",
              "      <td>ILAT_K2_3</td>\n",
              "      <td>3</td>\n",
              "      <td>8</td>\n",
              "      <td>1   2   3   4   9  11  12  14</td>\n",
              "      <td>8</td>\n",
              "      <td>7 8 5 13 6 16 15 10</td>\n",
              "      <td>11 12 14 1 9 7 8 5</td>\n",
              "    </tr>\n",
              "    <tr>\n",
              "      <th>2</th>\n",
              "      <td>ILAT_K2_3</td>\n",
              "      <td>3</td>\n",
              "      <td>8</td>\n",
              "      <td>1   2   3   4  10  11  12  13</td>\n",
              "      <td>8</td>\n",
              "      <td>7 8 6 14 5 16 15 9</td>\n",
              "      <td>11 12 13 1 10 7 8 6</td>\n",
              "    </tr>\n",
              "    <tr>\n",
              "      <th>3</th>\n",
              "      <td>ILAT_K2_3</td>\n",
              "      <td>3</td>\n",
              "      <td>8</td>\n",
              "      <td>1   2   3   4  10  11  12  14</td>\n",
              "      <td>8</td>\n",
              "      <td>7 8 5 13 6 16 15 9</td>\n",
              "      <td>11 12 14 1 10 7 8 5</td>\n",
              "    </tr>\n",
              "    <tr>\n",
              "      <th>4</th>\n",
              "      <td>ILAT_K2_3</td>\n",
              "      <td>3</td>\n",
              "      <td>8</td>\n",
              "      <td>1   2   3   5   9  11  12  14</td>\n",
              "      <td>8</td>\n",
              "      <td>8 7 13 4 15 16 6 10</td>\n",
              "      <td>12 14 1 11 8 7 13 4</td>\n",
              "    </tr>\n",
              "    <tr>\n",
              "      <th>5</th>\n",
              "      <td>ILAT_K2_3</td>\n",
              "      <td>3</td>\n",
              "      <td>8</td>\n",
              "      <td>1   2   3   5   9  11  12  15</td>\n",
              "      <td>8</td>\n",
              "      <td>8 6 10 4 7 16 14 13</td>\n",
              "      <td>12 15 3 9 11 4 5 8</td>\n",
              "    </tr>\n",
              "    <tr>\n",
              "      <th>6</th>\n",
              "      <td>ILAT_K2_3</td>\n",
              "      <td>3</td>\n",
              "      <td>8</td>\n",
              "      <td>1   2   3   5   9  12  13  14</td>\n",
              "      <td>8</td>\n",
              "      <td>8 7 15 6 11 10 4 16</td>\n",
              "      <td>12 14 8 15 1 3 9 7</td>\n",
              "    </tr>\n",
              "    <tr>\n",
              "      <th>7</th>\n",
              "      <td>ILAT_K2_3</td>\n",
              "      <td>3</td>\n",
              "      <td>8</td>\n",
              "      <td>1   2   3   5   9  12  13  15</td>\n",
              "      <td>8</td>\n",
              "      <td>8 6 14 7 11 10 4 16</td>\n",
              "      <td>12 15 8 14 1 3 9 6</td>\n",
              "    </tr>\n",
              "    <tr>\n",
              "      <th>8</th>\n",
              "      <td>ILAT_K2_3</td>\n",
              "      <td>3</td>\n",
              "      <td>8</td>\n",
              "      <td>1   2   3   5   9  12  14  15</td>\n",
              "      <td>8</td>\n",
              "      <td>8 7 6 13 11 10 4 16</td>\n",
              "      <td>12 14 15 8 1 3 9 7</td>\n",
              "    </tr>\n",
              "    <tr>\n",
              "      <th>9</th>\n",
              "      <td>ILAT_K2_3</td>\n",
              "      <td>3</td>\n",
              "      <td>8</td>\n",
              "      <td>1   2   3   5   9  12  15  16</td>\n",
              "      <td>8</td>\n",
              "      <td>8 6 10 4 7 13 11 14</td>\n",
              "      <td>12 15 3 9 16 6 4 7</td>\n",
              "    </tr>\n",
              "  </tbody>\n",
              "</table>\n",
              "</div>\n",
              "    <div class=\"colab-df-buttons\">\n",
              "\n",
              "  <div class=\"colab-df-container\">\n",
              "    <button class=\"colab-df-convert\" onclick=\"convertToInteractive('df-eb40de79-c6de-4743-8418-1c23139f384b')\"\n",
              "            title=\"Convert this dataframe to an interactive table.\"\n",
              "            style=\"display:none;\">\n",
              "\n",
              "  <svg xmlns=\"http://www.w3.org/2000/svg\" height=\"24px\" viewBox=\"0 -960 960 960\">\n",
              "    <path d=\"M120-120v-720h720v720H120Zm60-500h600v-160H180v160Zm220 220h160v-160H400v160Zm0 220h160v-160H400v160ZM180-400h160v-160H180v160Zm440 0h160v-160H620v160ZM180-180h160v-160H180v160Zm440 0h160v-160H620v160Z\"/>\n",
              "  </svg>\n",
              "    </button>\n",
              "\n",
              "  <style>\n",
              "    .colab-df-container {\n",
              "      display:flex;\n",
              "      gap: 12px;\n",
              "    }\n",
              "\n",
              "    .colab-df-convert {\n",
              "      background-color: #E8F0FE;\n",
              "      border: none;\n",
              "      border-radius: 50%;\n",
              "      cursor: pointer;\n",
              "      display: none;\n",
              "      fill: #1967D2;\n",
              "      height: 32px;\n",
              "      padding: 0 0 0 0;\n",
              "      width: 32px;\n",
              "    }\n",
              "\n",
              "    .colab-df-convert:hover {\n",
              "      background-color: #E2EBFA;\n",
              "      box-shadow: 0px 1px 2px rgba(60, 64, 67, 0.3), 0px 1px 3px 1px rgba(60, 64, 67, 0.15);\n",
              "      fill: #174EA6;\n",
              "    }\n",
              "\n",
              "    .colab-df-buttons div {\n",
              "      margin-bottom: 4px;\n",
              "    }\n",
              "\n",
              "    [theme=dark] .colab-df-convert {\n",
              "      background-color: #3B4455;\n",
              "      fill: #D2E3FC;\n",
              "    }\n",
              "\n",
              "    [theme=dark] .colab-df-convert:hover {\n",
              "      background-color: #434B5C;\n",
              "      box-shadow: 0px 1px 3px 1px rgba(0, 0, 0, 0.15);\n",
              "      filter: drop-shadow(0px 1px 2px rgba(0, 0, 0, 0.3));\n",
              "      fill: #FFFFFF;\n",
              "    }\n",
              "  </style>\n",
              "\n",
              "    <script>\n",
              "      const buttonEl =\n",
              "        document.querySelector('#df-eb40de79-c6de-4743-8418-1c23139f384b button.colab-df-convert');\n",
              "      buttonEl.style.display =\n",
              "        google.colab.kernel.accessAllowed ? 'block' : 'none';\n",
              "\n",
              "      async function convertToInteractive(key) {\n",
              "        const element = document.querySelector('#df-eb40de79-c6de-4743-8418-1c23139f384b');\n",
              "        const dataTable =\n",
              "          await google.colab.kernel.invokeFunction('convertToInteractive',\n",
              "                                                    [key], {});\n",
              "        if (!dataTable) return;\n",
              "\n",
              "        const docLinkHtml = 'Like what you see? Visit the ' +\n",
              "          '<a target=\"_blank\" href=https://colab.research.google.com/notebooks/data_table.ipynb>data table notebook</a>'\n",
              "          + ' to learn more about interactive tables.';\n",
              "        element.innerHTML = '';\n",
              "        dataTable['output_type'] = 'display_data';\n",
              "        await google.colab.output.renderOutput(dataTable, element);\n",
              "        const docLink = document.createElement('div');\n",
              "        docLink.innerHTML = docLinkHtml;\n",
              "        element.appendChild(docLink);\n",
              "      }\n",
              "    </script>\n",
              "  </div>\n",
              "\n",
              "\n",
              "<div id=\"df-b7365c4e-5207-4c10-b885-3905b6eb605b\">\n",
              "  <button class=\"colab-df-quickchart\" onclick=\"quickchart('df-b7365c4e-5207-4c10-b885-3905b6eb605b')\"\n",
              "            title=\"Suggest charts.\"\n",
              "            style=\"display:none;\">\n",
              "\n",
              "<svg xmlns=\"http://www.w3.org/2000/svg\" height=\"24px\"viewBox=\"0 0 24 24\"\n",
              "     width=\"24px\">\n",
              "    <g>\n",
              "        <path d=\"M19 3H5c-1.1 0-2 .9-2 2v14c0 1.1.9 2 2 2h14c1.1 0 2-.9 2-2V5c0-1.1-.9-2-2-2zM9 17H7v-7h2v7zm4 0h-2V7h2v10zm4 0h-2v-4h2v4z\"/>\n",
              "    </g>\n",
              "</svg>\n",
              "  </button>\n",
              "\n",
              "<style>\n",
              "  .colab-df-quickchart {\n",
              "    background-color: #E8F0FE;\n",
              "    border: none;\n",
              "    border-radius: 50%;\n",
              "    cursor: pointer;\n",
              "    display: none;\n",
              "    fill: #1967D2;\n",
              "    height: 32px;\n",
              "    padding: 0 0 0 0;\n",
              "    width: 32px;\n",
              "  }\n",
              "\n",
              "  .colab-df-quickchart:hover {\n",
              "    background-color: #E2EBFA;\n",
              "    box-shadow: 0px 1px 2px rgba(60, 64, 67, 0.3), 0px 1px 3px 1px rgba(60, 64, 67, 0.15);\n",
              "    fill: #174EA6;\n",
              "  }\n",
              "\n",
              "  [theme=dark] .colab-df-quickchart {\n",
              "    background-color: #3B4455;\n",
              "    fill: #D2E3FC;\n",
              "  }\n",
              "\n",
              "  [theme=dark] .colab-df-quickchart:hover {\n",
              "    background-color: #434B5C;\n",
              "    box-shadow: 0px 1px 3px 1px rgba(0, 0, 0, 0.15);\n",
              "    filter: drop-shadow(0px 1px 2px rgba(0, 0, 0, 0.3));\n",
              "    fill: #FFFFFF;\n",
              "  }\n",
              "</style>\n",
              "\n",
              "  <script>\n",
              "    async function quickchart(key) {\n",
              "      const charts = await google.colab.kernel.invokeFunction(\n",
              "          'suggestCharts', [key], {});\n",
              "    }\n",
              "    (() => {\n",
              "      let quickchartButtonEl =\n",
              "        document.querySelector('#df-b7365c4e-5207-4c10-b885-3905b6eb605b button');\n",
              "      quickchartButtonEl.style.display =\n",
              "        google.colab.kernel.accessAllowed ? 'block' : 'none';\n",
              "    })();\n",
              "  </script>\n",
              "</div>\n",
              "    </div>\n",
              "  </div>\n"
            ]
          },
          "metadata": {},
          "execution_count": 193
        }
      ],
      "source": [
        "#reading the Zero_forcing_stats.xlsx file, source: https://pandas.pydata.org/pandas-docs/stable/reference/api/pandas.read_excel.html\n",
        "df = pd.read_excel('Zero_forcing_stats_new.xlsx', sheet_name=1)\n",
        "name = \"ILAT_K3_3\"\n",
        "df.head(10)\n",
        "#df[['Force set', 'Forcees', 'Forcers']] how to filter out columns"
      ]
    },
    {
      "cell_type": "code",
      "execution_count": 194,
      "metadata": {
        "colab": {
          "base_uri": "https://localhost:8080/",
          "height": 363
        },
        "id": "WrQvhPK44Qka",
        "outputId": "0338a4ff-844f-4dc5-a8fc-6afb6966eb6c"
      },
      "outputs": [
        {
          "output_type": "execute_result",
          "data": {
            "text/plain": [
              "     Starting Graph  Clone/Anticlone Steps  Force set size  \\\n",
              "4961      ILAT_K3_3                      3              14   \n",
              "4962      ILAT_K3_3                      3              14   \n",
              "4963      ILAT_K3_3                      3              14   \n",
              "4964      ILAT_K3_3                      3              14   \n",
              "4965      ILAT_K3_3                      3              14   \n",
              "4966      ILAT_K3_3                      3              14   \n",
              "4967      ILAT_K3_3                      3              14   \n",
              "4968      ILAT_K3_3                      3              14   \n",
              "4969      ILAT_K3_3                      3              14   \n",
              "4970      ILAT_K3_3                      3              14   \n",
              "\n",
              "                                              Force set  Num forces  \\\n",
              "4961  2   3   8   9  10  11  12  13  14  15  19  20 ...          10   \n",
              "4962  2   3   8   9  10  11  12  13  14  15  19  21 ...          10   \n",
              "4963  2   3   8   9  10  11  12  13  14  15  19  21 ...          10   \n",
              "4964  2   3   8   9  10  11  12  13  14  15  19  21 ...          10   \n",
              "4965  2   3   8   9  10  11  12  13  14  19  20  22 ...          10   \n",
              "4966  2   3   8   9  10  11  12  13  14  19  21  22 ...          10   \n",
              "4967  2   3   8   9  10  11  12  13  15  19  20  22 ...          10   \n",
              "4968  2   3   8   9  10  11  12  13  15  19  21  22 ...          10   \n",
              "4969  2   3   8   9  10  11  12  14  15  19  20  22 ...          10   \n",
              "4970  2   3   8   9  10  11  12  14  15  19  21  22 ...          10   \n",
              "\n",
              "                        Forcees                       Forcers  \n",
              "4961  1 7 5 6 4 22 21 16 17 18   19 20 23 24 13 9 7 10 11 12   \n",
              "4962  1 7 4 5 6 24 20 16 17 18   19 21 22 23 13 8 9 10 11 12   \n",
              "4963  1 7 4 6 5 23 20 16 17 18   19 21 22 24 13 8 9 10 11 12   \n",
              "4964  1 7 5 6 4 22 20 16 17 18   19 21 23 24 13 8 9 10 11 12   \n",
              "4965  1 7 4 5 6 15 21 16 17 18   19 20 22 23 24 9 7 10 11 12   \n",
              "4966  1 7 4 5 6 15 20 16 17 18   19 21 22 23 24 8 9 10 11 12   \n",
              "4967  1 7 4 5 6 14 21 16 17 18   19 20 22 23 24 9 7 10 11 12   \n",
              "4968  1 7 4 5 6 14 20 16 17 18   19 21 22 23 24 8 9 10 11 12   \n",
              "4969  1 7 4 5 6 13 21 16 17 18   19 20 22 23 24 9 7 10 11 12   \n",
              "4970  1 7 4 5 6 13 20 16 17 18   19 21 22 23 24 8 9 10 11 12   "
            ],
            "text/html": [
              "\n",
              "  <div id=\"df-342cd037-79a0-46cf-abeb-4561656de034\" class=\"colab-df-container\">\n",
              "    <div>\n",
              "<style scoped>\n",
              "    .dataframe tbody tr th:only-of-type {\n",
              "        vertical-align: middle;\n",
              "    }\n",
              "\n",
              "    .dataframe tbody tr th {\n",
              "        vertical-align: top;\n",
              "    }\n",
              "\n",
              "    .dataframe thead th {\n",
              "        text-align: right;\n",
              "    }\n",
              "</style>\n",
              "<table border=\"1\" class=\"dataframe\">\n",
              "  <thead>\n",
              "    <tr style=\"text-align: right;\">\n",
              "      <th></th>\n",
              "      <th>Starting Graph</th>\n",
              "      <th>Clone/Anticlone Steps</th>\n",
              "      <th>Force set size</th>\n",
              "      <th>Force set</th>\n",
              "      <th>Num forces</th>\n",
              "      <th>Forcees</th>\n",
              "      <th>Forcers</th>\n",
              "    </tr>\n",
              "  </thead>\n",
              "  <tbody>\n",
              "    <tr>\n",
              "      <th>4961</th>\n",
              "      <td>ILAT_K3_3</td>\n",
              "      <td>3</td>\n",
              "      <td>14</td>\n",
              "      <td>2   3   8   9  10  11  12  13  14  15  19  20 ...</td>\n",
              "      <td>10</td>\n",
              "      <td>1 7 5 6 4 22 21 16 17 18</td>\n",
              "      <td>19 20 23 24 13 9 7 10 11 12</td>\n",
              "    </tr>\n",
              "    <tr>\n",
              "      <th>4962</th>\n",
              "      <td>ILAT_K3_3</td>\n",
              "      <td>3</td>\n",
              "      <td>14</td>\n",
              "      <td>2   3   8   9  10  11  12  13  14  15  19  21 ...</td>\n",
              "      <td>10</td>\n",
              "      <td>1 7 4 5 6 24 20 16 17 18</td>\n",
              "      <td>19 21 22 23 13 8 9 10 11 12</td>\n",
              "    </tr>\n",
              "    <tr>\n",
              "      <th>4963</th>\n",
              "      <td>ILAT_K3_3</td>\n",
              "      <td>3</td>\n",
              "      <td>14</td>\n",
              "      <td>2   3   8   9  10  11  12  13  14  15  19  21 ...</td>\n",
              "      <td>10</td>\n",
              "      <td>1 7 4 6 5 23 20 16 17 18</td>\n",
              "      <td>19 21 22 24 13 8 9 10 11 12</td>\n",
              "    </tr>\n",
              "    <tr>\n",
              "      <th>4964</th>\n",
              "      <td>ILAT_K3_3</td>\n",
              "      <td>3</td>\n",
              "      <td>14</td>\n",
              "      <td>2   3   8   9  10  11  12  13  14  15  19  21 ...</td>\n",
              "      <td>10</td>\n",
              "      <td>1 7 5 6 4 22 20 16 17 18</td>\n",
              "      <td>19 21 23 24 13 8 9 10 11 12</td>\n",
              "    </tr>\n",
              "    <tr>\n",
              "      <th>4965</th>\n",
              "      <td>ILAT_K3_3</td>\n",
              "      <td>3</td>\n",
              "      <td>14</td>\n",
              "      <td>2   3   8   9  10  11  12  13  14  19  20  22 ...</td>\n",
              "      <td>10</td>\n",
              "      <td>1 7 4 5 6 15 21 16 17 18</td>\n",
              "      <td>19 20 22 23 24 9 7 10 11 12</td>\n",
              "    </tr>\n",
              "    <tr>\n",
              "      <th>4966</th>\n",
              "      <td>ILAT_K3_3</td>\n",
              "      <td>3</td>\n",
              "      <td>14</td>\n",
              "      <td>2   3   8   9  10  11  12  13  14  19  21  22 ...</td>\n",
              "      <td>10</td>\n",
              "      <td>1 7 4 5 6 15 20 16 17 18</td>\n",
              "      <td>19 21 22 23 24 8 9 10 11 12</td>\n",
              "    </tr>\n",
              "    <tr>\n",
              "      <th>4967</th>\n",
              "      <td>ILAT_K3_3</td>\n",
              "      <td>3</td>\n",
              "      <td>14</td>\n",
              "      <td>2   3   8   9  10  11  12  13  15  19  20  22 ...</td>\n",
              "      <td>10</td>\n",
              "      <td>1 7 4 5 6 14 21 16 17 18</td>\n",
              "      <td>19 20 22 23 24 9 7 10 11 12</td>\n",
              "    </tr>\n",
              "    <tr>\n",
              "      <th>4968</th>\n",
              "      <td>ILAT_K3_3</td>\n",
              "      <td>3</td>\n",
              "      <td>14</td>\n",
              "      <td>2   3   8   9  10  11  12  13  15  19  21  22 ...</td>\n",
              "      <td>10</td>\n",
              "      <td>1 7 4 5 6 14 20 16 17 18</td>\n",
              "      <td>19 21 22 23 24 8 9 10 11 12</td>\n",
              "    </tr>\n",
              "    <tr>\n",
              "      <th>4969</th>\n",
              "      <td>ILAT_K3_3</td>\n",
              "      <td>3</td>\n",
              "      <td>14</td>\n",
              "      <td>2   3   8   9  10  11  12  14  15  19  20  22 ...</td>\n",
              "      <td>10</td>\n",
              "      <td>1 7 4 5 6 13 21 16 17 18</td>\n",
              "      <td>19 20 22 23 24 9 7 10 11 12</td>\n",
              "    </tr>\n",
              "    <tr>\n",
              "      <th>4970</th>\n",
              "      <td>ILAT_K3_3</td>\n",
              "      <td>3</td>\n",
              "      <td>14</td>\n",
              "      <td>2   3   8   9  10  11  12  14  15  19  21  22 ...</td>\n",
              "      <td>10</td>\n",
              "      <td>1 7 4 5 6 13 20 16 17 18</td>\n",
              "      <td>19 21 22 23 24 8 9 10 11 12</td>\n",
              "    </tr>\n",
              "  </tbody>\n",
              "</table>\n",
              "</div>\n",
              "    <div class=\"colab-df-buttons\">\n",
              "\n",
              "  <div class=\"colab-df-container\">\n",
              "    <button class=\"colab-df-convert\" onclick=\"convertToInteractive('df-342cd037-79a0-46cf-abeb-4561656de034')\"\n",
              "            title=\"Convert this dataframe to an interactive table.\"\n",
              "            style=\"display:none;\">\n",
              "\n",
              "  <svg xmlns=\"http://www.w3.org/2000/svg\" height=\"24px\" viewBox=\"0 -960 960 960\">\n",
              "    <path d=\"M120-120v-720h720v720H120Zm60-500h600v-160H180v160Zm220 220h160v-160H400v160Zm0 220h160v-160H400v160ZM180-400h160v-160H180v160Zm440 0h160v-160H620v160ZM180-180h160v-160H180v160Zm440 0h160v-160H620v160Z\"/>\n",
              "  </svg>\n",
              "    </button>\n",
              "\n",
              "  <style>\n",
              "    .colab-df-container {\n",
              "      display:flex;\n",
              "      gap: 12px;\n",
              "    }\n",
              "\n",
              "    .colab-df-convert {\n",
              "      background-color: #E8F0FE;\n",
              "      border: none;\n",
              "      border-radius: 50%;\n",
              "      cursor: pointer;\n",
              "      display: none;\n",
              "      fill: #1967D2;\n",
              "      height: 32px;\n",
              "      padding: 0 0 0 0;\n",
              "      width: 32px;\n",
              "    }\n",
              "\n",
              "    .colab-df-convert:hover {\n",
              "      background-color: #E2EBFA;\n",
              "      box-shadow: 0px 1px 2px rgba(60, 64, 67, 0.3), 0px 1px 3px 1px rgba(60, 64, 67, 0.15);\n",
              "      fill: #174EA6;\n",
              "    }\n",
              "\n",
              "    .colab-df-buttons div {\n",
              "      margin-bottom: 4px;\n",
              "    }\n",
              "\n",
              "    [theme=dark] .colab-df-convert {\n",
              "      background-color: #3B4455;\n",
              "      fill: #D2E3FC;\n",
              "    }\n",
              "\n",
              "    [theme=dark] .colab-df-convert:hover {\n",
              "      background-color: #434B5C;\n",
              "      box-shadow: 0px 1px 3px 1px rgba(0, 0, 0, 0.15);\n",
              "      filter: drop-shadow(0px 1px 2px rgba(0, 0, 0, 0.3));\n",
              "      fill: #FFFFFF;\n",
              "    }\n",
              "  </style>\n",
              "\n",
              "    <script>\n",
              "      const buttonEl =\n",
              "        document.querySelector('#df-342cd037-79a0-46cf-abeb-4561656de034 button.colab-df-convert');\n",
              "      buttonEl.style.display =\n",
              "        google.colab.kernel.accessAllowed ? 'block' : 'none';\n",
              "\n",
              "      async function convertToInteractive(key) {\n",
              "        const element = document.querySelector('#df-342cd037-79a0-46cf-abeb-4561656de034');\n",
              "        const dataTable =\n",
              "          await google.colab.kernel.invokeFunction('convertToInteractive',\n",
              "                                                    [key], {});\n",
              "        if (!dataTable) return;\n",
              "\n",
              "        const docLinkHtml = 'Like what you see? Visit the ' +\n",
              "          '<a target=\"_blank\" href=https://colab.research.google.com/notebooks/data_table.ipynb>data table notebook</a>'\n",
              "          + ' to learn more about interactive tables.';\n",
              "        element.innerHTML = '';\n",
              "        dataTable['output_type'] = 'display_data';\n",
              "        await google.colab.output.renderOutput(dataTable, element);\n",
              "        const docLink = document.createElement('div');\n",
              "        docLink.innerHTML = docLinkHtml;\n",
              "        element.appendChild(docLink);\n",
              "      }\n",
              "    </script>\n",
              "  </div>\n",
              "\n",
              "\n",
              "<div id=\"df-1b6ea8c7-7b07-4e70-b65f-3597713f62d1\">\n",
              "  <button class=\"colab-df-quickchart\" onclick=\"quickchart('df-1b6ea8c7-7b07-4e70-b65f-3597713f62d1')\"\n",
              "            title=\"Suggest charts.\"\n",
              "            style=\"display:none;\">\n",
              "\n",
              "<svg xmlns=\"http://www.w3.org/2000/svg\" height=\"24px\"viewBox=\"0 0 24 24\"\n",
              "     width=\"24px\">\n",
              "    <g>\n",
              "        <path d=\"M19 3H5c-1.1 0-2 .9-2 2v14c0 1.1.9 2 2 2h14c1.1 0 2-.9 2-2V5c0-1.1-.9-2-2-2zM9 17H7v-7h2v7zm4 0h-2V7h2v10zm4 0h-2v-4h2v4z\"/>\n",
              "    </g>\n",
              "</svg>\n",
              "  </button>\n",
              "\n",
              "<style>\n",
              "  .colab-df-quickchart {\n",
              "    background-color: #E8F0FE;\n",
              "    border: none;\n",
              "    border-radius: 50%;\n",
              "    cursor: pointer;\n",
              "    display: none;\n",
              "    fill: #1967D2;\n",
              "    height: 32px;\n",
              "    padding: 0 0 0 0;\n",
              "    width: 32px;\n",
              "  }\n",
              "\n",
              "  .colab-df-quickchart:hover {\n",
              "    background-color: #E2EBFA;\n",
              "    box-shadow: 0px 1px 2px rgba(60, 64, 67, 0.3), 0px 1px 3px 1px rgba(60, 64, 67, 0.15);\n",
              "    fill: #174EA6;\n",
              "  }\n",
              "\n",
              "  [theme=dark] .colab-df-quickchart {\n",
              "    background-color: #3B4455;\n",
              "    fill: #D2E3FC;\n",
              "  }\n",
              "\n",
              "  [theme=dark] .colab-df-quickchart:hover {\n",
              "    background-color: #434B5C;\n",
              "    box-shadow: 0px 1px 3px 1px rgba(0, 0, 0, 0.15);\n",
              "    filter: drop-shadow(0px 1px 2px rgba(0, 0, 0, 0.3));\n",
              "    fill: #FFFFFF;\n",
              "  }\n",
              "</style>\n",
              "\n",
              "  <script>\n",
              "    async function quickchart(key) {\n",
              "      const charts = await google.colab.kernel.invokeFunction(\n",
              "          'suggestCharts', [key], {});\n",
              "    }\n",
              "    (() => {\n",
              "      let quickchartButtonEl =\n",
              "        document.querySelector('#df-1b6ea8c7-7b07-4e70-b65f-3597713f62d1 button');\n",
              "      quickchartButtonEl.style.display =\n",
              "        google.colab.kernel.accessAllowed ? 'block' : 'none';\n",
              "    })();\n",
              "  </script>\n",
              "</div>\n",
              "    </div>\n",
              "  </div>\n"
            ]
          },
          "metadata": {},
          "execution_count": 194
        }
      ],
      "source": [
        "df.tail(10)"
      ]
    },
    {
      "cell_type": "code",
      "source": [
        "#extract the part we need\n",
        "df = df.loc[df['Starting Graph'] == name]\n",
        "df.index = np.arange(len(df))\n",
        "df"
      ],
      "metadata": {
        "colab": {
          "base_uri": "https://localhost:8080/",
          "height": 424
        },
        "id": "Z7JTAUUj-oiK",
        "outputId": "c172125a-7406-4bb7-c249-637769ee54aa"
      },
      "execution_count": 195,
      "outputs": [
        {
          "output_type": "execute_result",
          "data": {
            "text/plain": [
              "     Starting Graph  Clone/Anticlone Steps  Force set size  \\\n",
              "0         ILAT_K3_3                      3              14   \n",
              "1         ILAT_K3_3                      3              14   \n",
              "2         ILAT_K3_3                      3              14   \n",
              "3         ILAT_K3_3                      3              14   \n",
              "4         ILAT_K3_3                      3              14   \n",
              "...             ...                    ...             ...   \n",
              "2845      ILAT_K3_3                      3              14   \n",
              "2846      ILAT_K3_3                      3              14   \n",
              "2847      ILAT_K3_3                      3              14   \n",
              "2848      ILAT_K3_3                      3              14   \n",
              "2849      ILAT_K3_3                      3              14   \n",
              "\n",
              "                                              Force set  Num forces  \\\n",
              "0     1   2   3   4   5   6   7  13  14  15  16  17 ...          10   \n",
              "1     1   2   3   4   5   6   7  13  14  15  16  17 ...          10   \n",
              "2     1   2   3   4   5   6   7  13  14  16  17  18 ...          10   \n",
              "3     1   2   3   4   5   6   7  13  14  16  17  18 ...          10   \n",
              "4     1   2   3   4   5   6   7  13  14  16  17  18 ...          10   \n",
              "...                                                 ...         ...   \n",
              "2845  2   3   8   9  10  11  12  13  14  19  21  22 ...          10   \n",
              "2846  2   3   8   9  10  11  12  13  15  19  20  22 ...          10   \n",
              "2847  2   3   8   9  10  11  12  13  15  19  21  22 ...          10   \n",
              "2848  2   3   8   9  10  11  12  14  15  19  20  22 ...          10   \n",
              "2849  2   3   8   9  10  11  12  14  15  19  21  22 ...          10   \n",
              "\n",
              "                           Forcees                       Forcers  \n",
              "0     10 11 12 9 8 22 23 24 21 19     16 17 18 20 13 4 5 6 7 10   \n",
              "1     10 11 12 8 9 22 23 24 20 19     16 17 18 21 13 4 5 6 7 10   \n",
              "2     10 11 12 9 8 15 23 24 21 19     16 17 18 20 22 4 5 6 7 10   \n",
              "3     10 11 12 9 8 15 24 22 21 19     16 17 18 20 23 5 6 4 7 10   \n",
              "4     10 11 12 9 8 15 22 23 21 19     16 17 18 20 24 6 4 5 7 10   \n",
              "...                            ...                           ...  \n",
              "2845     1 7 4 5 6 15 20 16 17 18   19 21 22 23 24 8 9 10 11 12   \n",
              "2846     1 7 4 5 6 14 21 16 17 18   19 20 22 23 24 9 7 10 11 12   \n",
              "2847     1 7 4 5 6 14 20 16 17 18   19 21 22 23 24 8 9 10 11 12   \n",
              "2848     1 7 4 5 6 13 21 16 17 18   19 20 22 23 24 9 7 10 11 12   \n",
              "2849     1 7 4 5 6 13 20 16 17 18   19 21 22 23 24 8 9 10 11 12   \n",
              "\n",
              "[2850 rows x 7 columns]"
            ],
            "text/html": [
              "\n",
              "  <div id=\"df-8a29db04-c4c1-4c84-8161-805c3c0be5f1\" class=\"colab-df-container\">\n",
              "    <div>\n",
              "<style scoped>\n",
              "    .dataframe tbody tr th:only-of-type {\n",
              "        vertical-align: middle;\n",
              "    }\n",
              "\n",
              "    .dataframe tbody tr th {\n",
              "        vertical-align: top;\n",
              "    }\n",
              "\n",
              "    .dataframe thead th {\n",
              "        text-align: right;\n",
              "    }\n",
              "</style>\n",
              "<table border=\"1\" class=\"dataframe\">\n",
              "  <thead>\n",
              "    <tr style=\"text-align: right;\">\n",
              "      <th></th>\n",
              "      <th>Starting Graph</th>\n",
              "      <th>Clone/Anticlone Steps</th>\n",
              "      <th>Force set size</th>\n",
              "      <th>Force set</th>\n",
              "      <th>Num forces</th>\n",
              "      <th>Forcees</th>\n",
              "      <th>Forcers</th>\n",
              "    </tr>\n",
              "  </thead>\n",
              "  <tbody>\n",
              "    <tr>\n",
              "      <th>0</th>\n",
              "      <td>ILAT_K3_3</td>\n",
              "      <td>3</td>\n",
              "      <td>14</td>\n",
              "      <td>1   2   3   4   5   6   7  13  14  15  16  17 ...</td>\n",
              "      <td>10</td>\n",
              "      <td>10 11 12 9 8 22 23 24 21 19</td>\n",
              "      <td>16 17 18 20 13 4 5 6 7 10</td>\n",
              "    </tr>\n",
              "    <tr>\n",
              "      <th>1</th>\n",
              "      <td>ILAT_K3_3</td>\n",
              "      <td>3</td>\n",
              "      <td>14</td>\n",
              "      <td>1   2   3   4   5   6   7  13  14  15  16  17 ...</td>\n",
              "      <td>10</td>\n",
              "      <td>10 11 12 8 9 22 23 24 20 19</td>\n",
              "      <td>16 17 18 21 13 4 5 6 7 10</td>\n",
              "    </tr>\n",
              "    <tr>\n",
              "      <th>2</th>\n",
              "      <td>ILAT_K3_3</td>\n",
              "      <td>3</td>\n",
              "      <td>14</td>\n",
              "      <td>1   2   3   4   5   6   7  13  14  16  17  18 ...</td>\n",
              "      <td>10</td>\n",
              "      <td>10 11 12 9 8 15 23 24 21 19</td>\n",
              "      <td>16 17 18 20 22 4 5 6 7 10</td>\n",
              "    </tr>\n",
              "    <tr>\n",
              "      <th>3</th>\n",
              "      <td>ILAT_K3_3</td>\n",
              "      <td>3</td>\n",
              "      <td>14</td>\n",
              "      <td>1   2   3   4   5   6   7  13  14  16  17  18 ...</td>\n",
              "      <td>10</td>\n",
              "      <td>10 11 12 9 8 15 24 22 21 19</td>\n",
              "      <td>16 17 18 20 23 5 6 4 7 10</td>\n",
              "    </tr>\n",
              "    <tr>\n",
              "      <th>4</th>\n",
              "      <td>ILAT_K3_3</td>\n",
              "      <td>3</td>\n",
              "      <td>14</td>\n",
              "      <td>1   2   3   4   5   6   7  13  14  16  17  18 ...</td>\n",
              "      <td>10</td>\n",
              "      <td>10 11 12 9 8 15 22 23 21 19</td>\n",
              "      <td>16 17 18 20 24 6 4 5 7 10</td>\n",
              "    </tr>\n",
              "    <tr>\n",
              "      <th>...</th>\n",
              "      <td>...</td>\n",
              "      <td>...</td>\n",
              "      <td>...</td>\n",
              "      <td>...</td>\n",
              "      <td>...</td>\n",
              "      <td>...</td>\n",
              "      <td>...</td>\n",
              "    </tr>\n",
              "    <tr>\n",
              "      <th>2845</th>\n",
              "      <td>ILAT_K3_3</td>\n",
              "      <td>3</td>\n",
              "      <td>14</td>\n",
              "      <td>2   3   8   9  10  11  12  13  14  19  21  22 ...</td>\n",
              "      <td>10</td>\n",
              "      <td>1 7 4 5 6 15 20 16 17 18</td>\n",
              "      <td>19 21 22 23 24 8 9 10 11 12</td>\n",
              "    </tr>\n",
              "    <tr>\n",
              "      <th>2846</th>\n",
              "      <td>ILAT_K3_3</td>\n",
              "      <td>3</td>\n",
              "      <td>14</td>\n",
              "      <td>2   3   8   9  10  11  12  13  15  19  20  22 ...</td>\n",
              "      <td>10</td>\n",
              "      <td>1 7 4 5 6 14 21 16 17 18</td>\n",
              "      <td>19 20 22 23 24 9 7 10 11 12</td>\n",
              "    </tr>\n",
              "    <tr>\n",
              "      <th>2847</th>\n",
              "      <td>ILAT_K3_3</td>\n",
              "      <td>3</td>\n",
              "      <td>14</td>\n",
              "      <td>2   3   8   9  10  11  12  13  15  19  21  22 ...</td>\n",
              "      <td>10</td>\n",
              "      <td>1 7 4 5 6 14 20 16 17 18</td>\n",
              "      <td>19 21 22 23 24 8 9 10 11 12</td>\n",
              "    </tr>\n",
              "    <tr>\n",
              "      <th>2848</th>\n",
              "      <td>ILAT_K3_3</td>\n",
              "      <td>3</td>\n",
              "      <td>14</td>\n",
              "      <td>2   3   8   9  10  11  12  14  15  19  20  22 ...</td>\n",
              "      <td>10</td>\n",
              "      <td>1 7 4 5 6 13 21 16 17 18</td>\n",
              "      <td>19 20 22 23 24 9 7 10 11 12</td>\n",
              "    </tr>\n",
              "    <tr>\n",
              "      <th>2849</th>\n",
              "      <td>ILAT_K3_3</td>\n",
              "      <td>3</td>\n",
              "      <td>14</td>\n",
              "      <td>2   3   8   9  10  11  12  14  15  19  21  22 ...</td>\n",
              "      <td>10</td>\n",
              "      <td>1 7 4 5 6 13 20 16 17 18</td>\n",
              "      <td>19 21 22 23 24 8 9 10 11 12</td>\n",
              "    </tr>\n",
              "  </tbody>\n",
              "</table>\n",
              "<p>2850 rows × 7 columns</p>\n",
              "</div>\n",
              "    <div class=\"colab-df-buttons\">\n",
              "\n",
              "  <div class=\"colab-df-container\">\n",
              "    <button class=\"colab-df-convert\" onclick=\"convertToInteractive('df-8a29db04-c4c1-4c84-8161-805c3c0be5f1')\"\n",
              "            title=\"Convert this dataframe to an interactive table.\"\n",
              "            style=\"display:none;\">\n",
              "\n",
              "  <svg xmlns=\"http://www.w3.org/2000/svg\" height=\"24px\" viewBox=\"0 -960 960 960\">\n",
              "    <path d=\"M120-120v-720h720v720H120Zm60-500h600v-160H180v160Zm220 220h160v-160H400v160Zm0 220h160v-160H400v160ZM180-400h160v-160H180v160Zm440 0h160v-160H620v160ZM180-180h160v-160H180v160Zm440 0h160v-160H620v160Z\"/>\n",
              "  </svg>\n",
              "    </button>\n",
              "\n",
              "  <style>\n",
              "    .colab-df-container {\n",
              "      display:flex;\n",
              "      gap: 12px;\n",
              "    }\n",
              "\n",
              "    .colab-df-convert {\n",
              "      background-color: #E8F0FE;\n",
              "      border: none;\n",
              "      border-radius: 50%;\n",
              "      cursor: pointer;\n",
              "      display: none;\n",
              "      fill: #1967D2;\n",
              "      height: 32px;\n",
              "      padding: 0 0 0 0;\n",
              "      width: 32px;\n",
              "    }\n",
              "\n",
              "    .colab-df-convert:hover {\n",
              "      background-color: #E2EBFA;\n",
              "      box-shadow: 0px 1px 2px rgba(60, 64, 67, 0.3), 0px 1px 3px 1px rgba(60, 64, 67, 0.15);\n",
              "      fill: #174EA6;\n",
              "    }\n",
              "\n",
              "    .colab-df-buttons div {\n",
              "      margin-bottom: 4px;\n",
              "    }\n",
              "\n",
              "    [theme=dark] .colab-df-convert {\n",
              "      background-color: #3B4455;\n",
              "      fill: #D2E3FC;\n",
              "    }\n",
              "\n",
              "    [theme=dark] .colab-df-convert:hover {\n",
              "      background-color: #434B5C;\n",
              "      box-shadow: 0px 1px 3px 1px rgba(0, 0, 0, 0.15);\n",
              "      filter: drop-shadow(0px 1px 2px rgba(0, 0, 0, 0.3));\n",
              "      fill: #FFFFFF;\n",
              "    }\n",
              "  </style>\n",
              "\n",
              "    <script>\n",
              "      const buttonEl =\n",
              "        document.querySelector('#df-8a29db04-c4c1-4c84-8161-805c3c0be5f1 button.colab-df-convert');\n",
              "      buttonEl.style.display =\n",
              "        google.colab.kernel.accessAllowed ? 'block' : 'none';\n",
              "\n",
              "      async function convertToInteractive(key) {\n",
              "        const element = document.querySelector('#df-8a29db04-c4c1-4c84-8161-805c3c0be5f1');\n",
              "        const dataTable =\n",
              "          await google.colab.kernel.invokeFunction('convertToInteractive',\n",
              "                                                    [key], {});\n",
              "        if (!dataTable) return;\n",
              "\n",
              "        const docLinkHtml = 'Like what you see? Visit the ' +\n",
              "          '<a target=\"_blank\" href=https://colab.research.google.com/notebooks/data_table.ipynb>data table notebook</a>'\n",
              "          + ' to learn more about interactive tables.';\n",
              "        element.innerHTML = '';\n",
              "        dataTable['output_type'] = 'display_data';\n",
              "        await google.colab.output.renderOutput(dataTable, element);\n",
              "        const docLink = document.createElement('div');\n",
              "        docLink.innerHTML = docLinkHtml;\n",
              "        element.appendChild(docLink);\n",
              "      }\n",
              "    </script>\n",
              "  </div>\n",
              "\n",
              "\n",
              "<div id=\"df-a8ca6cdd-0565-435b-935a-803f80dd5cb6\">\n",
              "  <button class=\"colab-df-quickchart\" onclick=\"quickchart('df-a8ca6cdd-0565-435b-935a-803f80dd5cb6')\"\n",
              "            title=\"Suggest charts.\"\n",
              "            style=\"display:none;\">\n",
              "\n",
              "<svg xmlns=\"http://www.w3.org/2000/svg\" height=\"24px\"viewBox=\"0 0 24 24\"\n",
              "     width=\"24px\">\n",
              "    <g>\n",
              "        <path d=\"M19 3H5c-1.1 0-2 .9-2 2v14c0 1.1.9 2 2 2h14c1.1 0 2-.9 2-2V5c0-1.1-.9-2-2-2zM9 17H7v-7h2v7zm4 0h-2V7h2v10zm4 0h-2v-4h2v4z\"/>\n",
              "    </g>\n",
              "</svg>\n",
              "  </button>\n",
              "\n",
              "<style>\n",
              "  .colab-df-quickchart {\n",
              "    background-color: #E8F0FE;\n",
              "    border: none;\n",
              "    border-radius: 50%;\n",
              "    cursor: pointer;\n",
              "    display: none;\n",
              "    fill: #1967D2;\n",
              "    height: 32px;\n",
              "    padding: 0 0 0 0;\n",
              "    width: 32px;\n",
              "  }\n",
              "\n",
              "  .colab-df-quickchart:hover {\n",
              "    background-color: #E2EBFA;\n",
              "    box-shadow: 0px 1px 2px rgba(60, 64, 67, 0.3), 0px 1px 3px 1px rgba(60, 64, 67, 0.15);\n",
              "    fill: #174EA6;\n",
              "  }\n",
              "\n",
              "  [theme=dark] .colab-df-quickchart {\n",
              "    background-color: #3B4455;\n",
              "    fill: #D2E3FC;\n",
              "  }\n",
              "\n",
              "  [theme=dark] .colab-df-quickchart:hover {\n",
              "    background-color: #434B5C;\n",
              "    box-shadow: 0px 1px 3px 1px rgba(0, 0, 0, 0.15);\n",
              "    filter: drop-shadow(0px 1px 2px rgba(0, 0, 0, 0.3));\n",
              "    fill: #FFFFFF;\n",
              "  }\n",
              "</style>\n",
              "\n",
              "  <script>\n",
              "    async function quickchart(key) {\n",
              "      const charts = await google.colab.kernel.invokeFunction(\n",
              "          'suggestCharts', [key], {});\n",
              "    }\n",
              "    (() => {\n",
              "      let quickchartButtonEl =\n",
              "        document.querySelector('#df-a8ca6cdd-0565-435b-935a-803f80dd5cb6 button');\n",
              "      quickchartButtonEl.style.display =\n",
              "        google.colab.kernel.accessAllowed ? 'block' : 'none';\n",
              "    })();\n",
              "  </script>\n",
              "</div>\n",
              "    </div>\n",
              "  </div>\n"
            ]
          },
          "metadata": {},
          "execution_count": 195
        }
      ]
    },
    {
      "cell_type": "code",
      "source": [
        "len(df)"
      ],
      "metadata": {
        "colab": {
          "base_uri": "https://localhost:8080/"
        },
        "id": "uuJnkS4YLVx-",
        "outputId": "c00a2c62-138d-44d8-ee16-abf29a0ee3c1"
      },
      "execution_count": 182,
      "outputs": [
        {
          "output_type": "execute_result",
          "data": {
            "text/plain": [
              "2850"
            ]
          },
          "metadata": {},
          "execution_count": 182
        }
      ]
    },
    {
      "cell_type": "markdown",
      "metadata": {
        "id": "KfDXUXO9vwi-"
      },
      "source": [
        "## Data Cleaning"
      ]
    },
    {
      "cell_type": "code",
      "execution_count": 196,
      "metadata": {
        "id": "oc6lmCURwwe_"
      },
      "outputs": [],
      "source": [
        "def str_to_list(txt):\n",
        "  result = [int(num) for num in txt.split()]\n",
        "  return result"
      ]
    },
    {
      "cell_type": "code",
      "execution_count": 197,
      "metadata": {
        "id": "WUdx6Xqmvuin"
      },
      "outputs": [],
      "source": [
        "df[\"Force set\"] = df[\"Force set\"].apply(str_to_list)\n",
        "df[\"Forcees\"] = df[\"Forcees\"].apply(str_to_list)\n",
        "df[\"Forcers\"] = df[\"Forcers\"].apply(str_to_list)"
      ]
    },
    {
      "cell_type": "code",
      "execution_count": 198,
      "metadata": {
        "colab": {
          "base_uri": "https://localhost:8080/"
        },
        "id": "6-1YL5bkxNLS",
        "outputId": "bb60bb8a-33e8-4915-f4b6-37b8a2170e98"
      },
      "outputs": [
        {
          "output_type": "execute_result",
          "data": {
            "text/plain": [
              "[10, 11, 12, 9, 8, 22, 23, 24, 21, 19]"
            ]
          },
          "metadata": {},
          "execution_count": 198
        }
      ],
      "source": [
        "# check that conversion worked\n",
        "#for i, l in enumerate(df[\"Force set\"]):\n",
        "#  print(\"list\",i,\"is\",type(l))\n",
        "df[\"Forcees\"][0]"
      ]
    },
    {
      "cell_type": "markdown",
      "metadata": {
        "id": "GuN-1kRpvzYg"
      },
      "source": [
        "## Analysis"
      ]
    },
    {
      "cell_type": "code",
      "execution_count": 200,
      "metadata": {
        "id": "NkHhsk5INc3h"
      },
      "outputs": [],
      "source": [
        "#function that will get which clone something is of\n",
        "#the clone of i in level k is i+2^k\n",
        "def get_parent(child):\n",
        "  #get the range of log\n",
        "  log = math.log(child,2)\n",
        "  log = math.floor(log)\n",
        "  parent = child - (2**log)\n",
        "  return parent"
      ]
    },
    {
      "cell_type": "code",
      "execution_count": 157,
      "metadata": {
        "colab": {
          "base_uri": "https://localhost:8080/"
        },
        "id": "kgK57SBeb8Lg",
        "outputId": "bda71578-fe83-4c87-d55b-7e0050cc8e4d"
      },
      "outputs": [
        {
          "output_type": "stream",
          "name": "stdout",
          "text": [
            "7\n"
          ]
        }
      ],
      "source": [
        "print(get_parent(15))"
      ]
    },
    {
      "cell_type": "code",
      "execution_count": 199,
      "metadata": {
        "id": "pBsXwqcNNjbF"
      },
      "outputs": [],
      "source": [
        "#function which gets chain of clones something is of\n",
        "def get_pre(child):\n",
        "  line = []\n",
        "  temp = child\n",
        "  #get the range of log\n",
        "  while temp > 2:\n",
        "    log = math.log(temp,2)\n",
        "    if log == math.floor(log):\n",
        "      log = int(log -1)\n",
        "    else:\n",
        "      log = math.floor(log)\n",
        "    temp = temp - (2**log)\n",
        "    line.append(temp)\n",
        "  return line"
      ]
    },
    {
      "cell_type": "code",
      "execution_count": 201,
      "metadata": {
        "id": "ut1kZ9UzeuxK"
      },
      "outputs": [],
      "source": [
        "#function gets chain of clones after given amount of cloning steps in graph\n",
        "def get_post(child, steps):\n",
        "  line = []\n",
        "  temp = child\n",
        "  while True:\n",
        "    log = math.log(temp,2)\n",
        "    log = math.ceil(log)\n",
        "    if log == 0 and temp == 1:\n",
        "      log = 1\n",
        "    # child is in last step of clone hence no continuation\n",
        "    if log > steps:\n",
        "      return line\n",
        "    else:\n",
        "      temp = temp + 2**log\n",
        "      line.append(temp)"
      ]
    },
    {
      "cell_type": "code",
      "execution_count": 202,
      "metadata": {
        "colab": {
          "base_uri": "https://localhost:8080/"
        },
        "id": "kwoZ-I3odPHR",
        "outputId": "77293166-f4d2-4792-954a-128a85c05340"
      },
      "outputs": [
        {
          "output_type": "stream",
          "name": "stdout",
          "text": [
            "[2]\n"
          ]
        }
      ],
      "source": [
        "print(get_pre(6))"
      ]
    },
    {
      "cell_type": "code",
      "execution_count": 203,
      "metadata": {
        "colab": {
          "base_uri": "https://localhost:8080/"
        },
        "id": "-v7FxW1VgzyH",
        "outputId": "b57cd83c-6992-4b38-9578-efb348ad3c5d"
      },
      "outputs": [
        {
          "output_type": "stream",
          "name": "stdout",
          "text": [
            "[7, 15]\n"
          ]
        }
      ],
      "source": [
        "print(get_post(3,3))"
      ]
    },
    {
      "cell_type": "code",
      "execution_count": 204,
      "metadata": {
        "id": "8ZKDaWj8dt7p"
      },
      "outputs": [],
      "source": [
        "def set_colours(row):\n",
        "  #simple test: if a preceding is forcing clone - red, if clone is forcing preceding - orange, if a non-clones - blue\n",
        "  # step 1: change strings for forcers and forcees to arrays\n",
        "  steps = 3 #num of graph cloning steps\n",
        "  size = 8\n",
        "  forcers = row['Forcers']  #[13, 15, 7, 11, 3, 9, 5, 8]\n",
        "  beForced = row['Forcees']  #[5,7,11,6,14,8,12,16]\n",
        "\n",
        "  #forcers = row['Forcers']\n",
        "\n",
        "  if row[\"Starting Graph\"] == name:\n",
        "    steps = 3\n",
        "    size = 8\n",
        "  else:\n",
        "    steps = 4\n",
        "    size = 24 #take the size from the graph\n",
        "\n",
        "\n",
        "  colours = [0]*size\n",
        "  for i in range(size):\n",
        "    # step 2: for each forcee in the array, run get_pre(forcee)\n",
        "    line = get_pre(beForced[i])\n",
        "    # step 3: see if forcer in result of get_pre - colour red/orange if yes, if no run get_post(forcee)\n",
        "    if forcers[i] in line:\n",
        "      # Forcer is a preceding clone; check if it is direct precedor\n",
        "      if line[0] == forcers[i]:\n",
        "        colours[i] = \"Red\"\n",
        "      else:\n",
        "        colours[i] = \"Orange\"\n",
        "    else:\n",
        "      line = get_post(beForced[i], steps)\n",
        "      # step 4: see if forcer in result of get_post - colour green/pruple if yes, if no colour black (not clones)\n",
        "      if forcers[i] in line:\n",
        "        # Forcer is a later clone of forcee, check if the one right after\n",
        "        if line[0] == forcers[i]:\n",
        "          colours[i] = \"Green\"\n",
        "          #print(forcers, beForced, line, forcers[i], beForced[i])\n",
        "        else:\n",
        "          colours[i] = \"Purple\"\n",
        "      else:\n",
        "        colours[i] = \"Black\"\n",
        "    #print(colours)\n",
        "  return colours\n"
      ]
    },
    {
      "cell_type": "code",
      "execution_count": 205,
      "metadata": {
        "id": "dzOjXS1gs4Ds"
      },
      "outputs": [],
      "source": [
        "df[\"Colours\"] = df.apply(set_colours, axis=1)\n",
        "#df.head()"
      ]
    },
    {
      "cell_type": "markdown",
      "metadata": {
        "id": "j-S9NC4WJ9YY"
      },
      "source": [
        "### Colours Visualization\n",
        "Legend:\n",
        "\n",
        "Red - Forcer is a directly preceding clone of the forcee\n",
        "\n",
        "Orange - Forcer is a preceding clone of the forcee but not direct\n",
        "\n",
        "Green - Forcer is the direct following clone of the forcee\n",
        "\n",
        "Purple - Forcer is a later clone of the forcee but not a direct one\n",
        "\n",
        "Black - Forcer and forcee are not clones of each other"
      ]
    },
    {
      "cell_type": "code",
      "execution_count": 206,
      "metadata": {
        "colab": {
          "base_uri": "https://localhost:8080/"
        },
        "id": "ULiMotR5KBbJ",
        "outputId": "1eda627f-a0e4-4f07-f536-513e5fb898d1"
      },
      "outputs": [
        {
          "output_type": "execute_result",
          "data": {
            "text/plain": [
              "Black     22014\n",
              "Red         561\n",
              "Purple      180\n",
              "Green        45\n",
              "Orange        0\n",
              "Name: Colours, dtype: int64"
            ]
          },
          "metadata": {},
          "execution_count": 206
        }
      ],
      "source": [
        "colours_count = df[\"Colours\"].explode().value_counts()\n",
        "if \"Red\" not in colours_count:\n",
        "  colours_count[\"Red\"] = 0\n",
        "if \"Green\" not in colours_count:\n",
        "  colours_count[\"Green\"] = 0\n",
        "if \"Orange\" not in colours_count:\n",
        "  colours_count[\"Orange\"] = 0\n",
        "if \"Purple\" not in colours_count:\n",
        "  colours_count[\"Purple\"] = 0\n",
        "if \"Black\" not in colours_count:\n",
        "  colours_count[\"Black\"] = 0\n",
        "colours_count"
      ]
    },
    {
      "cell_type": "code",
      "execution_count": 166,
      "metadata": {
        "colab": {
          "base_uri": "https://localhost:8080/",
          "height": 524
        },
        "id": "OFV525eELLGA",
        "outputId": "01370e74-7482-46d7-be68-3e189d52de3b"
      },
      "outputs": [
        {
          "output_type": "execute_result",
          "data": {
            "text/plain": [
              "Text(0.5, 1.0, 'Amount of occurances of integers in successfully forcing sets')"
            ]
          },
          "metadata": {},
          "execution_count": 166
        },
        {
          "output_type": "display_data",
          "data": {
            "text/plain": [
              "<Figure size 1000x400 with 1 Axes>"
            ],
            "image/png": "[encoded data removed]"
          },
          "metadata": {}
        }
      ],
      "source": [
        "#plot this\n",
        "tags = [\"Not clones\", \"Direct Forcer -> forcee\", \"Direct forcee -> Forcer\", \"Indirect forcee -> Forcer\", \"Indirect Forcer -> forcee\"] #x axis info\n",
        "tags = {}\n",
        "tags[\"Not clones\"] = colours_count[\"Black\"]\n",
        "tags[\"Direct Forcer -> forcee\"] = colours_count[\"Red\"]\n",
        "tags[\"Indirect Forcer -> forcee\"] = colours_count[\"Orange\"]\n",
        "tags[\"Direct forcee -> Forcer\"] = colours_count[\"Green\"]\n",
        "tags[\"Indirect forcee -> Forcer\"] = colours_count[\"Purple\"]\n",
        "\n",
        "# Create plot\n",
        "fig, ax = plt.subplots(figsize = (10,4))\n",
        "ax.bar(tags.keys(), tags.values(), color=\"green\") #color_discrete_sequence=[\"black\", \"red\", \"green\", \"purple\", \"orange\"]\n",
        "plt.xticks(rotation=45)\n",
        "ax.set_ylabel(\"Frequency\", size = 12)\n",
        "ax.set_title(\"Amount of occurances of integers in successfully forcing sets\", size = 14)"
      ]
    },
    {
      "cell_type": "markdown",
      "metadata": {
        "id": "iGUXueCrEOl_"
      },
      "source": [
        "### Occurance of values in an initially forced set\n",
        "refered to: https://towardsdatascience.com/dealing-with-list-values-in-pandas-dataframes-a177e534f173"
      ]
    },
    {
      "cell_type": "code",
      "execution_count": 207,
      "metadata": {
        "colab": {
          "base_uri": "https://localhost:8080/"
        },
        "id": "zK-4LG6Z5MHG",
        "outputId": "f20d19e2-6efe-4745-fabd-cb0143ef13b7"
      },
      "outputs": [
        {
          "output_type": "stream",
          "name": "stdout",
          "text": [
            "24 unique numbers appeared in the sets. Here are the frequencies of them: \n"
          ]
        },
        {
          "output_type": "execute_result",
          "data": {
            "text/plain": [
              "18    2580\n",
              "16    2580\n",
              "17    2580\n",
              "2     2274\n",
              "1     2274\n",
              "3     2274\n",
              "13    2031\n",
              "14    2031\n",
              "15    2031\n",
              "6     1740\n",
              "5     1740\n",
              "4     1740\n",
              "10    1614\n",
              "11    1614\n",
              "12    1614\n",
              "19    1040\n",
              "20    1040\n",
              "21    1040\n",
              "8     1022\n",
              "9     1022\n",
              "7     1022\n",
              "22     999\n",
              "23     999\n",
              "24     999\n",
              "Name: Force set, dtype: int64"
            ]
          },
          "metadata": {},
          "execution_count": 207
        }
      ],
      "source": [
        "occurance_count = df[\"Force set\"].explode().value_counts()\n",
        "print(\"%d unique numbers appeared in the sets. Here are the frequencies of them: \" %(len(occurance_count)))\n",
        "occurance_count"
      ]
    },
    {
      "cell_type": "code",
      "execution_count": 168,
      "metadata": {
        "colab": {
          "base_uri": "https://localhost:8080/"
        },
        "id": "mD0xOGLV6m45",
        "outputId": "1c11792d-fb8f-40d8-bea4-f83f3569aa3e"
      },
      "outputs": [
        {
          "output_type": "stream",
          "name": "stdout",
          "text": [
            "here are the occurances in fraction value: \n"
          ]
        },
        {
          "output_type": "execute_result",
          "data": {
            "text/plain": [
              "1     0.059217\n",
              "2     0.059217\n",
              "3     0.059217\n",
              "13    0.056018\n",
              "14    0.056018\n",
              "15    0.056018\n",
              "4     0.048356\n",
              "5     0.048356\n",
              "6     0.048356\n",
              "22    0.041760\n",
              "24    0.041760\n",
              "23    0.041760\n",
              "7     0.035932\n",
              "8     0.035932\n",
              "9     0.035932\n",
              "20    0.035337\n",
              "21    0.035337\n",
              "19    0.035337\n",
              "16    0.030427\n",
              "17    0.030427\n",
              "18    0.030427\n",
              "12    0.026286\n",
              "11    0.026286\n",
              "10    0.026286\n",
              "Name: Force set, dtype: float64"
            ]
          },
          "metadata": {},
          "execution_count": 168
        }
      ],
      "source": [
        "#print out percentages\n",
        "print(\"here are the occurances in fraction value: \")\n",
        "df[\"Force set\"].explode().value_counts(normalize=True)\n"
      ]
    },
    {
      "cell_type": "code",
      "execution_count": 208,
      "metadata": {
        "colab": {
          "base_uri": "https://localhost:8080/",
          "height": 409
        },
        "id": "I1ZHRCtZ86Zr",
        "outputId": "911371c4-586e-4130-8be8-8220f042fa7f"
      },
      "outputs": [
        {
          "output_type": "execute_result",
          "data": {
            "text/plain": [
              "Text(0.5, 1.0, 'Amount of occurences of integers in successfully forcing sets')"
            ]
          },
          "metadata": {},
          "execution_count": 208
        },
        {
          "output_type": "display_data",
          "data": {
            "text/plain": [
              "<Figure size 1200x400 with 1 Axes>"
            ],
            "image/png": "[encoded data removed]"
          },
          "metadata": {}
        }
      ],
      "source": [
        "#plot this\n",
        "values = df[\"Force set\"].explode().value_counts().index.tolist() #x axis info\n",
        "\n",
        "# Create plot\n",
        "fig, ax = plt.subplots(figsize = (12,4))\n",
        "ax.bar(values, occurance_count)\n",
        "plt.xticks(values)\n",
        "ax.set_ylabel(\"Frequency\", size = 12)\n",
        "ax.set_title(\"Amount of occurences of integers in successfully forcing sets\", size = 14)"
      ]
    },
    {
      "cell_type": "code",
      "execution_count": 170,
      "metadata": {
        "id": "u1bku-i6-xCu"
      },
      "outputs": [],
      "source": [
        "def boolean_df(item_lists, unique_items):\n",
        "# Create empty dict\n",
        "    bool_dict = {}\n",
        "\n",
        "    # Loop through all the tags\n",
        "    for i, item in enumerate(unique_items):\n",
        "\n",
        "        # Apply boolean mask\n",
        "        bool_dict[item] = item_lists.apply(lambda x: item in x)\n",
        "\n",
        "    # Return the results as a dataframe\n",
        "    return pd.DataFrame(bool_dict)"
      ]
    },
    {
      "cell_type": "code",
      "execution_count": 171,
      "metadata": {
        "id": "nzHmSJMl-z1R"
      },
      "outputs": [],
      "source": [
        "bool_16 = boolean_df(\n",
        "  item_lists = df[\"Force set\"],\n",
        "  unique_items = sorted(values)\n",
        ")"
      ]
    },
    {
      "cell_type": "code",
      "execution_count": 172,
      "metadata": {
        "id": "WiqYH7yB_tze"
      },
      "outputs": [],
      "source": [
        "import seaborn as sn"
      ]
    },
    {
      "cell_type": "code",
      "execution_count": 173,
      "metadata": {
        "id": "oHSXHDmKACIY"
      },
      "outputs": [],
      "source": [
        "#get correlation values\n",
        "corr = bool_16.corr()\n"
      ]
    },
    {
      "cell_type": "code",
      "execution_count": 174,
      "metadata": {
        "colab": {
          "base_uri": "https://localhost:8080/",
          "height": 456
        },
        "id": "fG3XJVR4_KAq",
        "outputId": "ebe7976d-959c-4354-b0d5-022168f8ad94"
      },
      "outputs": [
        {
          "output_type": "execute_result",
          "data": {
            "text/plain": [
              "<Axes: >"
            ]
          },
          "metadata": {},
          "execution_count": 174
        },
        {
          "output_type": "display_data",
          "data": {
            "text/plain": [
              "<Figure size 640x480 with 2 Axes>"
            ],
            "image/png": "[encoded data removed]"
          },
          "metadata": {}
        }
      ],
      "source": [
        "# plot the heatmap for correlation values\n",
        "sn.heatmap(corr,\n",
        "        xticklabels=corr.columns,\n",
        "        yticklabels=corr.columns,\n",
        "        cmap = \"Purples\")"
      ]
    },
    {
      "cell_type": "markdown",
      "metadata": {
        "id": "mPkq56jMD6ww"
      },
      "source": [
        "## Correlation between Forcers and Forcees"
      ]
    },
    {
      "cell_type": "code",
      "execution_count": 211,
      "metadata": {
        "colab": {
          "base_uri": "https://localhost:8080/"
        },
        "id": "fZD35L8rEA6-",
        "outputId": "b4a2df1d-dc8e-4da3-fd1b-656f2c43fd54"
      },
      "outputs": [
        {
          "output_type": "stream",
          "name": "stdout",
          "text": [
            "19 unique numbers appeared in the forcer sets. Here are the frequencies of them: \n"
          ]
        },
        {
          "output_type": "execute_result",
          "data": {
            "text/plain": [
              "16    2580\n",
              "17    2580\n",
              "18    2580\n",
              "4     2580\n",
              "5     2580\n",
              "6     2580\n",
              "9     1334\n",
              "8     1292\n",
              "7     1250\n",
              "10    1242\n",
              "21    1040\n",
              "19    1040\n",
              "20    1040\n",
              "22     999\n",
              "23     999\n",
              "24     999\n",
              "11     858\n",
              "12     534\n",
              "13     393\n",
              "Name: Forcers, dtype: int64"
            ]
          },
          "metadata": {},
          "execution_count": 211
        }
      ],
      "source": [
        "forcer_count = df[\"Forcers\"].explode().value_counts()\n",
        "print(\"%d unique numbers appeared in the forcer sets. Here are the frequencies of them: \" %(len(forcer_count)))\n",
        "forcer_count"
      ]
    },
    {
      "cell_type": "code",
      "execution_count": 212,
      "metadata": {
        "colab": {
          "base_uri": "https://localhost:8080/",
          "height": 409
        },
        "id": "A5uWJpTpEksG",
        "outputId": "26dc1288-87de-437b-eeb1-96f109d63121"
      },
      "outputs": [
        {
          "output_type": "execute_result",
          "data": {
            "text/plain": [
              "Text(0.5, 1.0, 'Amount of occurances of nodes being forcers')"
            ]
          },
          "metadata": {},
          "execution_count": 212
        },
        {
          "output_type": "display_data",
          "data": {
            "text/plain": [
              "<Figure size 1200x400 with 1 Axes>"
            ],
            "image/png": "[encoded data removed]"
          },
          "metadata": {}
        }
      ],
      "source": [
        "#plot this\n",
        "forcer_values = df[\"Forcers\"].explode().value_counts().index.tolist() #x axis info\n",
        "\n",
        "# Create plot\n",
        "fig, ax = plt.subplots(figsize = (12,4))\n",
        "ax.bar(forcer_values, forcer_count, color=\"Green\")\n",
        "plt.xticks(forcer_values)\n",
        "ax.set_ylabel(\"Frequency\", size = 12)\n",
        "ax.set_title(\"Amount of occurances of nodes being forcers\", size = 14)"
      ]
    },
    {
      "cell_type": "code",
      "execution_count": 209,
      "metadata": {
        "colab": {
          "base_uri": "https://localhost:8080/"
        },
        "id": "ha4NYgSDGQ00",
        "outputId": "cea07145-d140-488a-b1b4-eda913d2be37"
      },
      "outputs": [
        {
          "output_type": "stream",
          "name": "stdout",
          "text": [
            "24 unique numbers appeared in the forcee sets. Here are the frequencies of them: \n"
          ]
        },
        {
          "output_type": "execute_result",
          "data": {
            "text/plain": [
              "22    1851\n",
              "23    1851\n",
              "24    1851\n",
              "9     1828\n",
              "8     1828\n",
              "7     1828\n",
              "21    1810\n",
              "19    1810\n",
              "20    1810\n",
              "10    1236\n",
              "12    1236\n",
              "11    1236\n",
              "6     1110\n",
              "4     1110\n",
              "5     1110\n",
              "14     819\n",
              "13     819\n",
              "15     819\n",
              "3      576\n",
              "2      576\n",
              "1      576\n",
              "16     270\n",
              "17     270\n",
              "18     270\n",
              "Name: Forcees, dtype: int64"
            ]
          },
          "metadata": {},
          "execution_count": 209
        }
      ],
      "source": [
        "forcee_count = df[\"Forcees\"].explode().value_counts()\n",
        "print(\"%d unique numbers appeared in the forcee sets. Here are the frequencies of them: \" %(len(forcee_count)))\n",
        "forcee_count"
      ]
    },
    {
      "cell_type": "code",
      "execution_count": 210,
      "metadata": {
        "colab": {
          "base_uri": "https://localhost:8080/",
          "height": 409
        },
        "id": "Ke0SWe9bGT6R",
        "outputId": "6ade1b3c-ec42-4d13-d9c0-10996cfa2af8"
      },
      "outputs": [
        {
          "output_type": "execute_result",
          "data": {
            "text/plain": [
              "Text(0.5, 1.0, 'Amount of occurances of nodes being forced')"
            ]
          },
          "metadata": {},
          "execution_count": 210
        },
        {
          "output_type": "display_data",
          "data": {
            "text/plain": [
              "<Figure size 1200x400 with 1 Axes>"
            ],
            "image/png": "[encoded data removed]"
          },
          "metadata": {}
        }
      ],
      "source": [
        "#plot this\n",
        "forcee_values = df[\"Forcees\"].explode().value_counts().index.tolist() #x axis info\n",
        "\n",
        "# Create plot\n",
        "fig, ax = plt.subplots(figsize = (12,4))\n",
        "ax.bar(forcee_values, forcee_count, color=\"Yellow\")\n",
        "plt.xticks(forcee_values)\n",
        "ax.set_ylabel(\"Frequency\", size = 12)\n",
        "ax.set_title(\"Amount of occurances of nodes being forced\", size = 14)"
      ]
    },
    {
      "cell_type": "markdown",
      "metadata": {
        "id": "OTdQ3TWoIh_W"
      },
      "source": [
        "Idea: make the forcer-forcee pairs into actual pairs and do value counts for those"
      ]
    },
    {
      "cell_type": "code",
      "execution_count": 57,
      "metadata": {
        "id": "rKMSdoHFHIOn"
      },
      "outputs": [],
      "source": [
        "bool_16_D = boolean_df(\n",
        "  item_lists = df[\"Forcers\"],\n",
        "  unique_items = sorted(forcer_values)\n",
        ")\n",
        "bool_16_S = boolean_df(\n",
        "  item_lists = df[\"Forcees\"],\n",
        "  unique_items = sorted(forcee_values)\n",
        ")"
      ]
    },
    {
      "cell_type": "code",
      "execution_count": 58,
      "metadata": {
        "id": "LKVEyCmkHcBR"
      },
      "outputs": [],
      "source": [
        "#corr_pairs = bool_16_D.corr(bool_16_S)"
      ]
    },
    {
      "cell_type": "code",
      "execution_count": null,
      "metadata": {
        "id": "OHaX0rxKHoiU"
      },
      "outputs": [],
      "source": [
        "sn.heatmap(corr_pairs,\n",
        "        cmap = \"Purples\")"
      ]
    },
    {
      "cell_type": "markdown",
      "metadata": {
        "id": "4d5fwpRcJUbf"
      },
      "source": [
        "### counts for how often value is in both forcee and forcer list"
      ]
    }
  ],
  "metadata": {
    "colab": {
      "provenance": []
    },
    "kernelspec": {
      "display_name": "Python 3",
      "name": "python3"
    },
    "language_info": {
      "name": "python"
    }
  },
  "nbformat": 4,
  "nbformat_minor": 0
}